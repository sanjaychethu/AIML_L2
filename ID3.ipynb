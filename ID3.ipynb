{
  "nbformat": 4,
  "nbformat_minor": 0,
  "metadata": {
    "colab": {
      "provenance": []
    },
    "kernelspec": {
      "name": "python3",
      "display_name": "Python 3"
    },
    "language_info": {
      "name": "python"
    }
  },
  "cells": [
    {
      "cell_type": "code",
      "source": [
        "import numpy as np\n",
        "import pandas as pd\n",
        "\n",
        "# Function to calculate entropy\n",
        "def entropy(y):\n",
        "    classes, counts = np.unique(y, return_counts=True)\n",
        "    probabilities = counts / len(y)\n",
        "    entropy = -np.sum(probabilities * np.log2(probabilities))\n",
        "    return entropy\n",
        "\n",
        "# Function to calculate information gain\n",
        "def information_gain(X, y, feature_index):\n",
        "    parent_entropy = entropy(y)\n",
        "    values, counts = np.unique(X[:, feature_index], return_counts=True)\n",
        "\n",
        "    weighted_entropy = 0\n",
        "    for i in range(len(values)):\n",
        "        subset_y = y[X[:, feature_index] == values[i]]\n",
        "        subset_entropy = entropy(subset_y)\n",
        "        weighted_entropy += (counts[i] / np.sum(counts)) * subset_entropy\n",
        "\n",
        "    gain = parent_entropy - weighted_entropy\n",
        "    return gain\n",
        "\n",
        "# Function to build the decision tree using ID3\n",
        "def id3(X, y, features, depth=0):\n",
        "    # Base cases\n",
        "    if len(np.unique(y)) == 1:\n",
        "        return np.unique(y)[0]\n",
        "\n",
        "    if len(features) == 0:\n",
        "        return np.bincount(y).argmax()\n",
        "\n",
        "    # Calculate information gain for all features\n",
        "    gains = [information_gain(X, y, i) for i in range(len(features))]\n",
        "    best_feature_index = np.argmax(gains)\n",
        "    best_feature = features[best_feature_index]\n",
        "\n",
        "    tree = {best_feature: {}}\n",
        "\n",
        "    # Split dataset by the best feature\n",
        "    feature_values = np.unique(X[:, best_feature_index])\n",
        "    for value in feature_values:\n",
        "        subset_X = X[X[:, best_feature_index] == value]\n",
        "        subset_y = y[X[:, best_feature_index] == value]\n",
        "\n",
        "        if len(subset_y) == 0:\n",
        "            tree[best_feature][value] = np.bincount(y).argmax()\n",
        "        else:\n",
        "            # Recursively build the tree\n",
        "            new_features = features[:best_feature_index] + features[best_feature_index + 1:]\n",
        "            tree[best_feature][value] = id3(subset_X[:, list(range(best_feature_index)) + list(range(best_feature_index + 1, X.shape[1]))],\n",
        "                                           subset_y,\n",
        "                                           new_features,\n",
        "                                           depth + 1)\n",
        "\n",
        "    return tree\n",
        "\n",
        "# Example usage\n",
        "data = {'Outlook': ['Sunny', 'Sunny', 'Overcast', 'Rain', 'Rain', 'Rain', 'Overcast', 'Sunny', 'Sunny', 'Rain', 'Sunny', 'Overcast', 'Overcast', 'Rain'],\n",
        "        'Temperature': ['Hot', 'Hot', 'Hot', 'Mild', 'Cool', 'Cool', 'Cool', 'Mild', 'Cool', 'Mild', 'Mild', 'Mild', 'Hot', 'Mild'],\n",
        "        'Humidity': ['High', 'High', 'High', 'High', 'Normal', 'Normal', 'Normal', 'High', 'Normal', 'Normal', 'Normal', 'High', 'Normal', 'High'],\n",
        "        'Windy': [False, True, False, False, False, True, True, False, False, False, True, True, False, True],\n",
        "        'PlayTennis': ['No', 'No', 'Yes', 'Yes', 'Yes', 'No', 'Yes', 'No', 'Yes', 'Yes', 'Yes', 'Yes', 'Yes', 'No']}\n",
        "\n",
        "df = pd.DataFrame(data)\n",
        "X = df.iloc[:, :-1].values\n",
        "y = df.iloc[:, -1].values\n",
        "features = df.columns[:-1].tolist()\n",
        "\n",
        "# Build decision tree\n",
        "decision_tree = id3(X, y, features)\n",
        "print(\"Decision Tree:\\n\", decision_tree)\n"
      ],
      "metadata": {
        "colab": {
          "base_uri": "https://localhost:8080/"
        },
        "id": "LbJ6U04Z2e8z",
        "outputId": "ac2fff81-bcab-473d-93e4-4877cf7dec87"
      },
      "execution_count": 2,
      "outputs": [
        {
          "output_type": "stream",
          "name": "stdout",
          "text": [
            "Decision Tree:\n",
            " {'Outlook': {'Overcast': 'Yes', 'Rain': {'Windy': {False: 'Yes', True: 'No'}}, 'Sunny': {'Humidity': {'High': 'No', 'Normal': 'Yes'}}}}\n"
          ]
        }
      ]
    }
  ]
}
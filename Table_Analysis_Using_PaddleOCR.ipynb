{
  "nbformat": 4,
  "nbformat_minor": 0,
  "metadata": {
    "colab": {
      "provenance": []
    },
    "kernelspec": {
      "name": "python3",
      "display_name": "Python 3"
    },
    "language_info": {
      "name": "python"
    }
  },
  "cells": [
    {
      "cell_type": "code",
      "source": [
        "!pip install paddleocr\n",
        "!pip install pandas\n",
        "!pip install matplotlib\n",
        "!pip install paddleocr\n",
        "!pip install paddlepaddle\n",
        "!pip install numpy\n",
        "!pip install opencv-python\n"
      ],
      "metadata": {
        "colab": {
          "base_uri": "https://localhost:8080/"
        },
        "id": "qcy7Qid5A_Ld",
        "outputId": "cf670e1b-3600-4165-df6f-a1ab0948080e"
      },
      "execution_count": 16,
      "outputs": [
        {
          "output_type": "stream",
          "name": "stdout",
          "text": [
            "Requirement already satisfied: paddleocr in /usr/local/lib/python3.10/dist-packages (2.8.1)\n",
            "Requirement already satisfied: shapely in /usr/local/lib/python3.10/dist-packages (from paddleocr) (2.0.6)\n",
            "Requirement already satisfied: scikit-image in /usr/local/lib/python3.10/dist-packages (from paddleocr) (0.24.0)\n",
            "Requirement already satisfied: imgaug in /usr/local/lib/python3.10/dist-packages (from paddleocr) (0.4.0)\n",
            "Requirement already satisfied: pyclipper in /usr/local/lib/python3.10/dist-packages (from paddleocr) (1.3.0.post5)\n",
            "Requirement already satisfied: lmdb in /usr/local/lib/python3.10/dist-packages (from paddleocr) (1.5.1)\n",
            "Requirement already satisfied: tqdm in /usr/local/lib/python3.10/dist-packages (from paddleocr) (4.66.5)\n",
            "Requirement already satisfied: numpy<2.0 in /usr/local/lib/python3.10/dist-packages (from paddleocr) (1.26.4)\n",
            "Requirement already satisfied: rapidfuzz in /usr/local/lib/python3.10/dist-packages (from paddleocr) (3.10.0)\n",
            "Requirement already satisfied: opencv-python in /usr/local/lib/python3.10/dist-packages (from paddleocr) (4.10.0.84)\n",
            "Requirement already satisfied: opencv-contrib-python in /usr/local/lib/python3.10/dist-packages (from paddleocr) (4.10.0.84)\n",
            "Requirement already satisfied: cython in /usr/local/lib/python3.10/dist-packages (from paddleocr) (3.0.11)\n",
            "Requirement already satisfied: Pillow in /usr/local/lib/python3.10/dist-packages (from paddleocr) (10.4.0)\n",
            "Requirement already satisfied: pyyaml in /usr/local/lib/python3.10/dist-packages (from paddleocr) (6.0.2)\n",
            "Requirement already satisfied: python-docx in /usr/local/lib/python3.10/dist-packages (from paddleocr) (1.1.2)\n",
            "Requirement already satisfied: beautifulsoup4 in /usr/local/lib/python3.10/dist-packages (from paddleocr) (4.12.3)\n",
            "Requirement already satisfied: fonttools>=4.24.0 in /usr/local/lib/python3.10/dist-packages (from paddleocr) (4.54.1)\n",
            "Requirement already satisfied: fire>=0.3.0 in /usr/local/lib/python3.10/dist-packages (from paddleocr) (0.7.0)\n",
            "Requirement already satisfied: requests in /usr/local/lib/python3.10/dist-packages (from paddleocr) (2.32.3)\n",
            "Requirement already satisfied: termcolor in /usr/local/lib/python3.10/dist-packages (from fire>=0.3.0->paddleocr) (2.4.0)\n",
            "Requirement already satisfied: soupsieve>1.2 in /usr/local/lib/python3.10/dist-packages (from beautifulsoup4->paddleocr) (2.6)\n",
            "Requirement already satisfied: six in /usr/local/lib/python3.10/dist-packages (from imgaug->paddleocr) (1.16.0)\n",
            "Requirement already satisfied: scipy in /usr/local/lib/python3.10/dist-packages (from imgaug->paddleocr) (1.13.1)\n",
            "Requirement already satisfied: matplotlib in /usr/local/lib/python3.10/dist-packages (from imgaug->paddleocr) (3.7.1)\n",
            "Requirement already satisfied: imageio in /usr/local/lib/python3.10/dist-packages (from imgaug->paddleocr) (2.35.1)\n",
            "Requirement already satisfied: networkx>=2.8 in /usr/local/lib/python3.10/dist-packages (from scikit-image->paddleocr) (3.3)\n",
            "Requirement already satisfied: tifffile>=2022.8.12 in /usr/local/lib/python3.10/dist-packages (from scikit-image->paddleocr) (2024.9.20)\n",
            "Requirement already satisfied: packaging>=21 in /usr/local/lib/python3.10/dist-packages (from scikit-image->paddleocr) (24.1)\n",
            "Requirement already satisfied: lazy-loader>=0.4 in /usr/local/lib/python3.10/dist-packages (from scikit-image->paddleocr) (0.4)\n",
            "Requirement already satisfied: lxml>=3.1.0 in /usr/local/lib/python3.10/dist-packages (from python-docx->paddleocr) (4.9.4)\n",
            "Requirement already satisfied: typing-extensions>=4.9.0 in /usr/local/lib/python3.10/dist-packages (from python-docx->paddleocr) (4.12.2)\n",
            "Requirement already satisfied: charset-normalizer<4,>=2 in /usr/local/lib/python3.10/dist-packages (from requests->paddleocr) (3.3.2)\n",
            "Requirement already satisfied: idna<4,>=2.5 in /usr/local/lib/python3.10/dist-packages (from requests->paddleocr) (3.10)\n",
            "Requirement already satisfied: urllib3<3,>=1.21.1 in /usr/local/lib/python3.10/dist-packages (from requests->paddleocr) (2.2.3)\n",
            "Requirement already satisfied: certifi>=2017.4.17 in /usr/local/lib/python3.10/dist-packages (from requests->paddleocr) (2024.8.30)\n",
            "Requirement already satisfied: contourpy>=1.0.1 in /usr/local/lib/python3.10/dist-packages (from matplotlib->imgaug->paddleocr) (1.3.0)\n",
            "Requirement already satisfied: cycler>=0.10 in /usr/local/lib/python3.10/dist-packages (from matplotlib->imgaug->paddleocr) (0.12.1)\n",
            "Requirement already satisfied: kiwisolver>=1.0.1 in /usr/local/lib/python3.10/dist-packages (from matplotlib->imgaug->paddleocr) (1.4.7)\n",
            "Requirement already satisfied: pyparsing>=2.3.1 in /usr/local/lib/python3.10/dist-packages (from matplotlib->imgaug->paddleocr) (3.1.4)\n",
            "Requirement already satisfied: python-dateutil>=2.7 in /usr/local/lib/python3.10/dist-packages (from matplotlib->imgaug->paddleocr) (2.8.2)\n",
            "Requirement already satisfied: pandas in /usr/local/lib/python3.10/dist-packages (2.2.2)\n",
            "Requirement already satisfied: numpy>=1.22.4 in /usr/local/lib/python3.10/dist-packages (from pandas) (1.26.4)\n",
            "Requirement already satisfied: python-dateutil>=2.8.2 in /usr/local/lib/python3.10/dist-packages (from pandas) (2.8.2)\n",
            "Requirement already satisfied: pytz>=2020.1 in /usr/local/lib/python3.10/dist-packages (from pandas) (2024.2)\n",
            "Requirement already satisfied: tzdata>=2022.7 in /usr/local/lib/python3.10/dist-packages (from pandas) (2024.2)\n",
            "Requirement already satisfied: six>=1.5 in /usr/local/lib/python3.10/dist-packages (from python-dateutil>=2.8.2->pandas) (1.16.0)\n",
            "Requirement already satisfied: matplotlib in /usr/local/lib/python3.10/dist-packages (3.7.1)\n",
            "Requirement already satisfied: contourpy>=1.0.1 in /usr/local/lib/python3.10/dist-packages (from matplotlib) (1.3.0)\n",
            "Requirement already satisfied: cycler>=0.10 in /usr/local/lib/python3.10/dist-packages (from matplotlib) (0.12.1)\n",
            "Requirement already satisfied: fonttools>=4.22.0 in /usr/local/lib/python3.10/dist-packages (from matplotlib) (4.54.1)\n",
            "Requirement already satisfied: kiwisolver>=1.0.1 in /usr/local/lib/python3.10/dist-packages (from matplotlib) (1.4.7)\n",
            "Requirement already satisfied: numpy>=1.20 in /usr/local/lib/python3.10/dist-packages (from matplotlib) (1.26.4)\n",
            "Requirement already satisfied: packaging>=20.0 in /usr/local/lib/python3.10/dist-packages (from matplotlib) (24.1)\n",
            "Requirement already satisfied: pillow>=6.2.0 in /usr/local/lib/python3.10/dist-packages (from matplotlib) (10.4.0)\n",
            "Requirement already satisfied: pyparsing>=2.3.1 in /usr/local/lib/python3.10/dist-packages (from matplotlib) (3.1.4)\n",
            "Requirement already satisfied: python-dateutil>=2.7 in /usr/local/lib/python3.10/dist-packages (from matplotlib) (2.8.2)\n",
            "Requirement already satisfied: six>=1.5 in /usr/local/lib/python3.10/dist-packages (from python-dateutil>=2.7->matplotlib) (1.16.0)\n",
            "Requirement already satisfied: paddleocr in /usr/local/lib/python3.10/dist-packages (2.8.1)\n",
            "Requirement already satisfied: shapely in /usr/local/lib/python3.10/dist-packages (from paddleocr) (2.0.6)\n",
            "Requirement already satisfied: scikit-image in /usr/local/lib/python3.10/dist-packages (from paddleocr) (0.24.0)\n",
            "Requirement already satisfied: imgaug in /usr/local/lib/python3.10/dist-packages (from paddleocr) (0.4.0)\n",
            "Requirement already satisfied: pyclipper in /usr/local/lib/python3.10/dist-packages (from paddleocr) (1.3.0.post5)\n",
            "Requirement already satisfied: lmdb in /usr/local/lib/python3.10/dist-packages (from paddleocr) (1.5.1)\n",
            "Requirement already satisfied: tqdm in /usr/local/lib/python3.10/dist-packages (from paddleocr) (4.66.5)\n",
            "Requirement already satisfied: numpy<2.0 in /usr/local/lib/python3.10/dist-packages (from paddleocr) (1.26.4)\n",
            "Requirement already satisfied: rapidfuzz in /usr/local/lib/python3.10/dist-packages (from paddleocr) (3.10.0)\n",
            "Requirement already satisfied: opencv-python in /usr/local/lib/python3.10/dist-packages (from paddleocr) (4.10.0.84)\n",
            "Requirement already satisfied: opencv-contrib-python in /usr/local/lib/python3.10/dist-packages (from paddleocr) (4.10.0.84)\n",
            "Requirement already satisfied: cython in /usr/local/lib/python3.10/dist-packages (from paddleocr) (3.0.11)\n",
            "Requirement already satisfied: Pillow in /usr/local/lib/python3.10/dist-packages (from paddleocr) (10.4.0)\n",
            "Requirement already satisfied: pyyaml in /usr/local/lib/python3.10/dist-packages (from paddleocr) (6.0.2)\n",
            "Requirement already satisfied: python-docx in /usr/local/lib/python3.10/dist-packages (from paddleocr) (1.1.2)\n",
            "Requirement already satisfied: beautifulsoup4 in /usr/local/lib/python3.10/dist-packages (from paddleocr) (4.12.3)\n",
            "Requirement already satisfied: fonttools>=4.24.0 in /usr/local/lib/python3.10/dist-packages (from paddleocr) (4.54.1)\n",
            "Requirement already satisfied: fire>=0.3.0 in /usr/local/lib/python3.10/dist-packages (from paddleocr) (0.7.0)\n",
            "Requirement already satisfied: requests in /usr/local/lib/python3.10/dist-packages (from paddleocr) (2.32.3)\n",
            "Requirement already satisfied: termcolor in /usr/local/lib/python3.10/dist-packages (from fire>=0.3.0->paddleocr) (2.4.0)\n",
            "Requirement already satisfied: soupsieve>1.2 in /usr/local/lib/python3.10/dist-packages (from beautifulsoup4->paddleocr) (2.6)\n",
            "Requirement already satisfied: six in /usr/local/lib/python3.10/dist-packages (from imgaug->paddleocr) (1.16.0)\n",
            "Requirement already satisfied: scipy in /usr/local/lib/python3.10/dist-packages (from imgaug->paddleocr) (1.13.1)\n",
            "Requirement already satisfied: matplotlib in /usr/local/lib/python3.10/dist-packages (from imgaug->paddleocr) (3.7.1)\n",
            "Requirement already satisfied: imageio in /usr/local/lib/python3.10/dist-packages (from imgaug->paddleocr) (2.35.1)\n",
            "Requirement already satisfied: networkx>=2.8 in /usr/local/lib/python3.10/dist-packages (from scikit-image->paddleocr) (3.3)\n",
            "Requirement already satisfied: tifffile>=2022.8.12 in /usr/local/lib/python3.10/dist-packages (from scikit-image->paddleocr) (2024.9.20)\n",
            "Requirement already satisfied: packaging>=21 in /usr/local/lib/python3.10/dist-packages (from scikit-image->paddleocr) (24.1)\n",
            "Requirement already satisfied: lazy-loader>=0.4 in /usr/local/lib/python3.10/dist-packages (from scikit-image->paddleocr) (0.4)\n",
            "Requirement already satisfied: lxml>=3.1.0 in /usr/local/lib/python3.10/dist-packages (from python-docx->paddleocr) (4.9.4)\n",
            "Requirement already satisfied: typing-extensions>=4.9.0 in /usr/local/lib/python3.10/dist-packages (from python-docx->paddleocr) (4.12.2)\n",
            "Requirement already satisfied: charset-normalizer<4,>=2 in /usr/local/lib/python3.10/dist-packages (from requests->paddleocr) (3.3.2)\n",
            "Requirement already satisfied: idna<4,>=2.5 in /usr/local/lib/python3.10/dist-packages (from requests->paddleocr) (3.10)\n",
            "Requirement already satisfied: urllib3<3,>=1.21.1 in /usr/local/lib/python3.10/dist-packages (from requests->paddleocr) (2.2.3)\n",
            "Requirement already satisfied: certifi>=2017.4.17 in /usr/local/lib/python3.10/dist-packages (from requests->paddleocr) (2024.8.30)\n",
            "Requirement already satisfied: contourpy>=1.0.1 in /usr/local/lib/python3.10/dist-packages (from matplotlib->imgaug->paddleocr) (1.3.0)\n",
            "Requirement already satisfied: cycler>=0.10 in /usr/local/lib/python3.10/dist-packages (from matplotlib->imgaug->paddleocr) (0.12.1)\n",
            "Requirement already satisfied: kiwisolver>=1.0.1 in /usr/local/lib/python3.10/dist-packages (from matplotlib->imgaug->paddleocr) (1.4.7)\n",
            "Requirement already satisfied: pyparsing>=2.3.1 in /usr/local/lib/python3.10/dist-packages (from matplotlib->imgaug->paddleocr) (3.1.4)\n",
            "Requirement already satisfied: python-dateutil>=2.7 in /usr/local/lib/python3.10/dist-packages (from matplotlib->imgaug->paddleocr) (2.8.2)\n",
            "Collecting paddlepaddle\n",
            "  Downloading paddlepaddle-2.6.2-cp310-cp310-manylinux1_x86_64.whl.metadata (8.6 kB)\n",
            "Requirement already satisfied: httpx in /usr/local/lib/python3.10/dist-packages (from paddlepaddle) (0.27.2)\n",
            "Requirement already satisfied: numpy>=1.13 in /usr/local/lib/python3.10/dist-packages (from paddlepaddle) (1.26.4)\n",
            "Requirement already satisfied: Pillow in /usr/local/lib/python3.10/dist-packages (from paddlepaddle) (10.4.0)\n",
            "Requirement already satisfied: decorator in /usr/local/lib/python3.10/dist-packages (from paddlepaddle) (4.4.2)\n",
            "Collecting astor (from paddlepaddle)\n",
            "  Downloading astor-0.8.1-py2.py3-none-any.whl.metadata (4.2 kB)\n",
            "Collecting opt-einsum==3.3.0 (from paddlepaddle)\n",
            "  Downloading opt_einsum-3.3.0-py3-none-any.whl.metadata (6.5 kB)\n",
            "Requirement already satisfied: protobuf>=3.20.2 in /usr/local/lib/python3.10/dist-packages (from paddlepaddle) (3.20.3)\n",
            "Requirement already satisfied: anyio in /usr/local/lib/python3.10/dist-packages (from httpx->paddlepaddle) (3.7.1)\n",
            "Requirement already satisfied: certifi in /usr/local/lib/python3.10/dist-packages (from httpx->paddlepaddle) (2024.8.30)\n",
            "Requirement already satisfied: httpcore==1.* in /usr/local/lib/python3.10/dist-packages (from httpx->paddlepaddle) (1.0.6)\n",
            "Requirement already satisfied: idna in /usr/local/lib/python3.10/dist-packages (from httpx->paddlepaddle) (3.10)\n",
            "Requirement already satisfied: sniffio in /usr/local/lib/python3.10/dist-packages (from httpx->paddlepaddle) (1.3.1)\n",
            "Requirement already satisfied: h11<0.15,>=0.13 in /usr/local/lib/python3.10/dist-packages (from httpcore==1.*->httpx->paddlepaddle) (0.14.0)\n",
            "Requirement already satisfied: exceptiongroup in /usr/local/lib/python3.10/dist-packages (from anyio->httpx->paddlepaddle) (1.2.2)\n",
            "Downloading paddlepaddle-2.6.2-cp310-cp310-manylinux1_x86_64.whl (126.0 MB)\n",
            "\u001b[2K   \u001b[90m━━━━━━━━━━━━━━━━━━━━━━━━━━━━━━━━━━━━━━━━\u001b[0m \u001b[32m126.0/126.0 MB\u001b[0m \u001b[31m6.5 MB/s\u001b[0m eta \u001b[36m0:00:00\u001b[0m\n",
            "\u001b[?25hDownloading opt_einsum-3.3.0-py3-none-any.whl (65 kB)\n",
            "\u001b[2K   \u001b[90m━━━━━━━━━━━━━━━━━━━━━━━━━━━━━━━━━━━━━━━━\u001b[0m \u001b[32m65.5/65.5 kB\u001b[0m \u001b[31m4.0 MB/s\u001b[0m eta \u001b[36m0:00:00\u001b[0m\n",
            "\u001b[?25hDownloading astor-0.8.1-py2.py3-none-any.whl (27 kB)\n",
            "Installing collected packages: opt-einsum, astor, paddlepaddle\n",
            "  Attempting uninstall: opt-einsum\n",
            "    Found existing installation: opt_einsum 3.4.0\n",
            "    Uninstalling opt_einsum-3.4.0:\n",
            "      Successfully uninstalled opt_einsum-3.4.0\n",
            "Successfully installed astor-0.8.1 opt-einsum-3.3.0 paddlepaddle-2.6.2\n",
            "Requirement already satisfied: numpy in /usr/local/lib/python3.10/dist-packages (1.26.4)\n",
            "Requirement already satisfied: opencv-python in /usr/local/lib/python3.10/dist-packages (4.10.0.84)\n",
            "Requirement already satisfied: numpy>=1.21.2 in /usr/local/lib/python3.10/dist-packages (from opencv-python) (1.26.4)\n"
          ]
        }
      ]
    },
    {
      "cell_type": "code",
      "source": [
        "import pandas as pd\n",
        "import matplotlib.pyplot as plt\n",
        "from paddleocr import PaddleOCR\n",
        "import numpy as np\n",
        "import cv2\n"
      ],
      "metadata": {
        "id": "n7wPFp0GBJwe"
      },
      "execution_count": 17,
      "outputs": []
    },
    {
      "cell_type": "code",
      "source": [
        "ocr = PaddleOCR(use_angle_cls=True, lang='en')  # Initialize the OCR model\n"
      ],
      "metadata": {
        "colab": {
          "base_uri": "https://localhost:8080/"
        },
        "id": "CmxTnFm_BqMx",
        "outputId": "45034eb8-fb33-42af-8951-48be121c464a"
      },
      "execution_count": 18,
      "outputs": [
        {
          "output_type": "stream",
          "name": "stdout",
          "text": [
            "download https://paddleocr.bj.bcebos.com/PP-OCRv3/english/en_PP-OCRv3_det_infer.tar to /root/.paddleocr/whl/det/en/en_PP-OCRv3_det_infer/en_PP-OCRv3_det_infer.tar\n"
          ]
        },
        {
          "output_type": "stream",
          "name": "stderr",
          "text": [
            "100%|██████████| 4.00M/4.00M [00:16<00:00, 240kiB/s] \n"
          ]
        },
        {
          "output_type": "stream",
          "name": "stdout",
          "text": [
            "download https://paddleocr.bj.bcebos.com/PP-OCRv4/english/en_PP-OCRv4_rec_infer.tar to /root/.paddleocr/whl/rec/en/en_PP-OCRv4_rec_infer/en_PP-OCRv4_rec_infer.tar\n"
          ]
        },
        {
          "output_type": "stream",
          "name": "stderr",
          "text": [
            "100%|██████████| 10.2M/10.2M [00:19<00:00, 531kiB/s] \n"
          ]
        },
        {
          "output_type": "stream",
          "name": "stdout",
          "text": [
            "download https://paddleocr.bj.bcebos.com/dygraph_v2.0/ch/ch_ppocr_mobile_v2.0_cls_infer.tar to /root/.paddleocr/whl/cls/ch_ppocr_mobile_v2.0_cls_infer/ch_ppocr_mobile_v2.0_cls_infer.tar\n"
          ]
        },
        {
          "output_type": "stream",
          "name": "stderr",
          "text": [
            "100%|██████████| 2.19M/2.19M [00:16<00:00, 135kiB/s]"
          ]
        },
        {
          "output_type": "stream",
          "name": "stdout",
          "text": [
            "[2024/10/05 04:54:34] ppocr DEBUG: Namespace(help='==SUPPRESS==', use_gpu=False, use_xpu=False, use_npu=False, use_mlu=False, ir_optim=True, use_tensorrt=False, min_subgraph_size=15, precision='fp32', gpu_mem=500, gpu_id=0, image_dir=None, page_num=0, det_algorithm='DB', det_model_dir='/root/.paddleocr/whl/det/en/en_PP-OCRv3_det_infer', det_limit_side_len=960, det_limit_type='max', det_box_type='quad', det_db_thresh=0.3, det_db_box_thresh=0.6, det_db_unclip_ratio=1.5, max_batch_size=10, use_dilation=False, det_db_score_mode='fast', det_east_score_thresh=0.8, det_east_cover_thresh=0.1, det_east_nms_thresh=0.2, det_sast_score_thresh=0.5, det_sast_nms_thresh=0.2, det_pse_thresh=0, det_pse_box_thresh=0.85, det_pse_min_area=16, det_pse_scale=1, scales=[8, 16, 32], alpha=1.0, beta=1.0, fourier_degree=5, rec_algorithm='SVTR_LCNet', rec_model_dir='/root/.paddleocr/whl/rec/en/en_PP-OCRv4_rec_infer', rec_image_inverse=True, rec_image_shape='3, 48, 320', rec_batch_num=6, max_text_length=25, rec_char_dict_path='/usr/local/lib/python3.10/dist-packages/paddleocr/ppocr/utils/en_dict.txt', use_space_char=True, vis_font_path='./doc/fonts/simfang.ttf', drop_score=0.5, e2e_algorithm='PGNet', e2e_model_dir=None, e2e_limit_side_len=768, e2e_limit_type='max', e2e_pgnet_score_thresh=0.5, e2e_char_dict_path='./ppocr/utils/ic15_dict.txt', e2e_pgnet_valid_set='totaltext', e2e_pgnet_mode='fast', use_angle_cls=True, cls_model_dir='/root/.paddleocr/whl/cls/ch_ppocr_mobile_v2.0_cls_infer', cls_image_shape='3, 48, 192', label_list=['0', '180'], cls_batch_num=6, cls_thresh=0.9, enable_mkldnn=False, cpu_threads=10, use_pdserving=False, warmup=False, sr_model_dir=None, sr_image_shape='3, 32, 128', sr_batch_num=1, draw_img_save_dir='./inference_results', save_crop_res=False, crop_res_save_dir='./output', use_mp=False, total_process_num=1, process_id=0, benchmark=False, save_log_path='./log_output/', show_log=True, use_onnx=False, return_word_box=False, output='./output', table_max_len=488, table_algorithm='TableAttn', table_model_dir=None, merge_no_span_structure=True, table_char_dict_path=None, layout_model_dir=None, layout_dict_path=None, layout_score_threshold=0.5, layout_nms_threshold=0.5, kie_algorithm='LayoutXLM', ser_model_dir=None, re_model_dir=None, use_visual_backbone=True, ser_dict_path='../train_data/XFUND/class_list_xfun.txt', ocr_order_method=None, mode='structure', image_orientation=False, layout=True, table=True, ocr=True, recovery=False, use_pdf2docx_api=False, invert=False, binarize=False, alphacolor=(255, 255, 255), lang='en', det=True, rec=True, type='ocr', savefile=False, ocr_version='PP-OCRv4', structure_version='PP-StructureV2')\n"
          ]
        },
        {
          "output_type": "stream",
          "name": "stderr",
          "text": [
            "\n"
          ]
        }
      ]
    },
    {
      "cell_type": "code",
      "source": [
        "def load_image(image_path):\n",
        "    img = cv2.imread(image_path)\n",
        "    return img\n",
        "\n",
        "image_path = \"/content/image_table.jpg\"  # Replace with your image path\n",
        "image = load_image(image_path)\n"
      ],
      "metadata": {
        "id": "n7EfpqpMCP5d"
      },
      "execution_count": 19,
      "outputs": []
    },
    {
      "cell_type": "code",
      "source": [
        "def extract_text_from_image(image_path, ocr):\n",
        "    # Run PaddleOCR on the image\n",
        "    result = ocr.ocr(image_path, cls=True)\n",
        "\n",
        "    # Extract the bounding boxes and the corresponding text\n",
        "    extracted_data = []\n",
        "    for line in result:\n",
        "        for word_info in line:\n",
        "            if len(word_info) >= 2:\n",
        "                text = word_info[1][0]  # Extract text from the second item in word_info\n",
        "                extracted_data.append(text)\n",
        "\n",
        "    return extracted_data\n",
        "\n",
        "extracted_text = extract_text_from_image(image_path, ocr)\n",
        "print(\"Extracted Text: \", extracted_text)\n"
      ],
      "metadata": {
        "colab": {
          "base_uri": "https://localhost:8080/"
        },
        "id": "F_cxQlcvCZ2P",
        "outputId": "f6b5672d-0837-4bf4-ca81-ced1f451f4f0"
      },
      "execution_count": 21,
      "outputs": [
        {
          "output_type": "stream",
          "name": "stdout",
          "text": [
            "[2024/10/05 04:57:43] ppocr DEBUG: dt_boxes num : 209, elapsed : 0.18576979637145996\n",
            "[2024/10/05 04:57:44] ppocr DEBUG: cls num  : 209, elapsed : 0.5665984153747559\n",
            "[2024/10/05 04:57:54] ppocr DEBUG: rec_res num  : 209, elapsed : 10.058297395706177\n",
            "Extracted Text:  ['Year', 'Category', 'Product', 'Sales', 'Rating', '2017', 'Components', 'Chains', 'E', '20.000', '75%', '2015', 'Clothing', 'Socks', 'E', '3.700', '22%', '2017', 'Clothing', 'Bib Shorts', '4.000', '22%', '2015', 'Clothing', 'Shorts', 'E', '13.300', '56%', '2017', 'Clothing', 'Tights', 'E', '36.000', '100%', '2015', 'Components', 'Handlebars', 'E', '2.300', '35%', '2016', 'Clothing', 'Socks', '2016', '2.300', '28%', 'Components', 'Brakes', 'E', '3.400', 'Bikes', '36%', '2016', 'Mountain Bikes', 'E', '6.300', '40%', '2017', 'Components', 'Brakes', 'E', '5.400', '38%', '2016', 'Accessories', 'Helmets', 'E', '17.000', '90%', '2016', 'Accessories', 'Lights', 'E', '21.600', '90%', '2016', 'Accessories', 'Locks', 'E', '29.800', '90%', '2016', 'Components', 'Bottom Brackets', 'E', '1.000', '23%', '2015', 'Clothing', 'Jerseys', '6.700', '5%', '2017', 'Components', 'Bottom Brackets', 'E', '600', '27%', '2015', 'Bikes', 'Road Bikes', 'E', '3.500', '50%', '2017', 'Clothing', 'Jerseys', '2017', '7.500', 'Accessories', '40%', 'Tyres and Tubes', 'E', '63.700', '90%', '2017', 'Bikes', 'Cargo Bike', 'E', '9.300', '60%', '2017', 'Bikes', 'Mountain Bikes', '8.500', '46%', '2017', 'Accessories', 'Bike Racks', '2017', 'E', '33.700', '92%', 'Clothing', 'Caps', 'E', '600', '2015', 'Bikes', '15%', 'Mountain Bikes', 'E', '3.100', '2017', '35%', 'Accessories', 'Pumps', 'E', '30.700', '95%', '2016', 'Accessories', 'Pumps', 'E', '16.400', '2016', '80%', 'Accessories', 'Bike Racks', 'E', '22.100', '90%', '2017', 'Accessories', 'Helmets', 'E', '34.000', '95%', '2015', 'Accessories', 'Pumps', '700', '10%', '2015', 'Clothing', 'Tights', '3.300', 'Bikes', '30%', '2017', '2017', 'Road Bikes', 'E', '16.900', '65%', 'Accessories', 'Lights', 'E', '36.700', '90%', '2015', 'Accessories', '2016', 'Helmets', 'E', '8.300', '%66', 'Clothing', 'Bib Shorts', 'C', '2.900', '36%']\n"
          ]
        }
      ]
    },
    {
      "cell_type": "code",
      "source": [
        "def convert_extracted_data_to_dataframe(extracted_text):\n",
        "    # Assuming the data is tabular with columns separated by a space or special character\n",
        "    rows = []\n",
        "    current_row = []\n",
        "\n",
        "    # Process each line of text to simulate rows and columns\n",
        "    for text in extracted_text:\n",
        "        if text.isnumeric():  # Let's assume a new number indicates a new row\n",
        "            if current_row:\n",
        "                rows.append(current_row)\n",
        "            current_row = [text]\n",
        "        else:\n",
        "            current_row.append(text)\n",
        "\n",
        "    # Adding the last row\n",
        "    if current_row:\n",
        "        rows.append(current_row)\n",
        "\n",
        "    # Convert to a DataFrame\n",
        "    df = pd.DataFrame(rows)\n",
        "    return df\n",
        "\n",
        "dataframe = convert_extracted_data_to_dataframe(extracted_text)\n",
        "print(\"Extracted Dataframe: \\n\", dataframe)\n"
      ],
      "metadata": {
        "colab": {
          "base_uri": "https://localhost:8080/"
        },
        "id": "qKWVDi1BCur8",
        "outputId": "61f57097-aae8-4d71-fd19-97b6bbdf3220"
      },
      "execution_count": 22,
      "outputs": [
        {
          "output_type": "stream",
          "name": "stdout",
          "text": [
            "Extracted Dataframe: \n",
            "        0               1                2               3                4  \\\n",
            "0   Year        Category          Product           Sales           Rating   \n",
            "1   2017      Components           Chains               E           20.000   \n",
            "2   2015        Clothing            Socks               E            3.700   \n",
            "3   2017        Clothing       Bib Shorts           4.000              22%   \n",
            "4   2015        Clothing           Shorts               E           13.300   \n",
            "5   2017        Clothing           Tights               E           36.000   \n",
            "6   2015      Components       Handlebars               E            2.300   \n",
            "7   2016        Clothing            Socks            None             None   \n",
            "8   2016           2.300              28%      Components           Brakes   \n",
            "9   2016  Mountain Bikes                E           6.300              40%   \n",
            "10  2017      Components           Brakes               E            5.400   \n",
            "11  2016     Accessories          Helmets               E           17.000   \n",
            "12  2016     Accessories           Lights               E           21.600   \n",
            "13  2016     Accessories            Locks               E           29.800   \n",
            "14  2016      Components  Bottom Brackets               E            1.000   \n",
            "15  2015        Clothing          Jerseys           6.700               5%   \n",
            "16  2017      Components  Bottom Brackets               E             None   \n",
            "17   600             27%             None            None             None   \n",
            "18  2015           Bikes       Road Bikes               E            3.500   \n",
            "19  2017        Clothing          Jerseys            None             None   \n",
            "20  2017           7.500      Accessories             40%  Tyres and Tubes   \n",
            "21  2017           Bikes       Cargo Bike               E            9.300   \n",
            "22  2017           Bikes   Mountain Bikes           8.500              46%   \n",
            "23  2017     Accessories       Bike Racks            None             None   \n",
            "24  2017               E           33.700             92%         Clothing   \n",
            "25   600            None             None            None             None   \n",
            "26  2015           Bikes              15%  Mountain Bikes                E   \n",
            "27  2017             35%      Accessories           Pumps                E   \n",
            "28  2016     Accessories            Pumps               E           16.400   \n",
            "29  2016             80%      Accessories      Bike Racks                E   \n",
            "30  2017     Accessories          Helmets               E           34.000   \n",
            "31  2015     Accessories            Pumps            None             None   \n",
            "32   700             10%             None            None             None   \n",
            "33  2015        Clothing           Tights           3.300            Bikes   \n",
            "34  2017            None             None            None             None   \n",
            "35  2017      Road Bikes                E          16.900              65%   \n",
            "36  2015     Accessories             None            None             None   \n",
            "37  2016         Helmets                E           8.300              %66   \n",
            "\n",
            "              5           6      7       8     9  \n",
            "0          None        None   None    None  None  \n",
            "1           75%        None   None    None  None  \n",
            "2           22%        None   None    None  None  \n",
            "3          None        None   None    None  None  \n",
            "4           56%        None   None    None  None  \n",
            "5          100%        None   None    None  None  \n",
            "6           35%        None   None    None  None  \n",
            "7          None        None   None    None  None  \n",
            "8             E       3.400  Bikes     36%  None  \n",
            "9          None        None   None    None  None  \n",
            "10          38%        None   None    None  None  \n",
            "11          90%        None   None    None  None  \n",
            "12          90%        None   None    None  None  \n",
            "13          90%        None   None    None  None  \n",
            "14          23%        None   None    None  None  \n",
            "15         None        None   None    None  None  \n",
            "16         None        None   None    None  None  \n",
            "17         None        None   None    None  None  \n",
            "18          50%        None   None    None  None  \n",
            "19         None        None   None    None  None  \n",
            "20            E      63.700    90%    None  None  \n",
            "21          60%        None   None    None  None  \n",
            "22         None        None   None    None  None  \n",
            "23         None        None   None    None  None  \n",
            "24         Caps           E   None    None  None  \n",
            "25         None        None   None    None  None  \n",
            "26        3.100        None   None    None  None  \n",
            "27       30.700         95%   None    None  None  \n",
            "28         None        None   None    None  None  \n",
            "29       22.100         90%   None    None  None  \n",
            "30          95%        None   None    None  None  \n",
            "31         None        None   None    None  None  \n",
            "32         None        None   None    None  None  \n",
            "33          30%        None   None    None  None  \n",
            "34         None        None   None    None  None  \n",
            "35  Accessories      Lights      E  36.700   90%  \n",
            "36         None        None   None    None  None  \n",
            "37     Clothing  Bib Shorts      C   2.900   36%  \n"
          ]
        }
      ]
    },
    {
      "cell_type": "code",
      "source": [
        "def analyze_data(df):\n",
        "    # Simple analysis - describing numerical columns\n",
        "    summary = df.describe()\n",
        "    print(\"Summary Statistics: \\n\", summary)\n",
        "\n",
        "    return summary\n",
        "\n",
        "summary = analyze_data(dataframe)\n"
      ],
      "metadata": {
        "colab": {
          "base_uri": "https://localhost:8080/"
        },
        "id": "LK76fx1YCy0O",
        "outputId": "9c46f758-352c-4d8f-bc1f-d40bed3fb659"
      },
      "execution_count": 23,
      "outputs": [
        {
          "output_type": "stream",
          "name": "stdout",
          "text": [
            "Summary Statistics: \n",
            "            0         1   2   3   4    5      6      7    8    9\n",
            "count     38        36  33  29  28   22      7      4    3    2\n",
            "unique     6        15  23  15  26   19      7      4    3    2\n",
            "top     2017  Clothing   E   E   E  90%  3.400  Bikes  36%  90%\n",
            "freq      15         8   3  15   3    3      1      1    1    1\n"
          ]
        }
      ]
    },
    {
      "cell_type": "code",
      "source": [
        "def visualize_data(df):\n",
        "    # Example of visualizing column data as bar charts (if numeric)\n",
        "    numeric_cols = df.select_dtypes(include=[np.number])\n",
        "\n",
        "    for col in numeric_cols.columns:\n",
        "        plt.figure(figsize=(10, 5))\n",
        "        plt.bar(df.index, df[col])\n",
        "        plt.title(f'Bar Chart for {col}')\n",
        "        plt.xlabel('Index')\n",
        "        plt.ylabel(col)\n",
        "        plt.show()\n",
        "\n",
        "visualize_data(dataframe)\n"
      ],
      "metadata": {
        "id": "xobIIpPIC28R"
      },
      "execution_count": 26,
      "outputs": []
    },
    {
      "cell_type": "code",
      "source": [
        "def evaluate_pipeline_accuracy(df, ground_truth):\n",
        "    # A simple evaluation: comparing extracted values to ground truth\n",
        "    correct_values = 0\n",
        "    total_values = len(ground_truth)\n",
        "\n",
        "    for gt, extracted in zip(ground_truth, df.values.flatten()):\n",
        "        if gt == extracted:\n",
        "            correct_values += 1\n",
        "\n",
        "    accuracy = correct_values / total_values\n",
        "    print(\"Pipeline Accuracy: \", accuracy)\n",
        "    return accuracy\n",
        "\n",
        "# Define a sample ground truth for evaluation\n",
        "ground_truth = [\"Name\", \"Age\", \"Alice\", \"25\", \"Bob\", \"30\"]\n",
        "accuracy = evaluate_pipeline_accuracy(dataframe, ground_truth)\n"
      ],
      "metadata": {
        "colab": {
          "base_uri": "https://localhost:8080/"
        },
        "id": "YjnxGbCtC517",
        "outputId": "cbfcff13-11b7-4b9b-baea-3ed2c2903702"
      },
      "execution_count": 25,
      "outputs": [
        {
          "output_type": "stream",
          "name": "stdout",
          "text": [
            "Pipeline Accuracy:  0.0\n"
          ]
        }
      ]
    }
  ]
}